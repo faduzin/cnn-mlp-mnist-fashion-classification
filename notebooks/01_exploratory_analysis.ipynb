{
 "cells": [
  {
   "cell_type": "code",
   "execution_count": 3,
   "metadata": {},
   "outputs": [],
   "source": [
    "import sys\n",
    "sys.path.append('../')\n",
    "\n",
    "from src import *"
   ]
  },
  {
   "cell_type": "code",
   "execution_count": 4,
   "metadata": {},
   "outputs": [
    {
     "name": "stdout",
     "output_type": "stream",
     "text": [
      "Data loaded successfully.\n",
      "Data loaded successfully.\n"
     ]
    }
   ],
   "source": [
    "df_train = load_data('../data/fashion-mnist_train.csv')\n",
    "df_test = load_data('../data/fashion-mnist_test.csv')"
   ]
  },
  {
   "cell_type": "code",
   "execution_count": 5,
   "metadata": {},
   "outputs": [
    {
     "name": "stdout",
     "output_type": "stream",
     "text": [
      "<class 'pandas.core.frame.DataFrame'>\n",
      "RangeIndex: 60000 entries, 0 to 59999\n",
      "Columns: 785 entries, label to pixel784\n",
      "dtypes: int64(785)\n",
      "memory usage: 359.3 MB\n",
      "None\n",
      "--------------------------------------------------\n",
      "              label        pixel1        pixel2        pixel3        pixel4  \\\n",
      "count  60000.000000  60000.000000  60000.000000  60000.000000  60000.000000   \n",
      "mean       4.500000      0.000900      0.006150      0.035333      0.101933   \n",
      "std        2.872305      0.094689      0.271011      1.222324      2.452871   \n",
      "min        0.000000      0.000000      0.000000      0.000000      0.000000   \n",
      "25%        2.000000      0.000000      0.000000      0.000000      0.000000   \n",
      "50%        4.500000      0.000000      0.000000      0.000000      0.000000   \n",
      "75%        7.000000      0.000000      0.000000      0.000000      0.000000   \n",
      "max        9.000000     16.000000     36.000000    226.000000    164.000000   \n",
      "\n",
      "             pixel5        pixel6        pixel7        pixel8        pixel9  \\\n",
      "count  60000.000000  60000.000000  60000.000000  60000.000000  60000.000000   \n",
      "mean       0.247967      0.411467      0.805767      2.198283      5.682000   \n",
      "std        4.306912      5.836188      8.215169     14.093378     23.819481   \n",
      "min        0.000000      0.000000      0.000000      0.000000      0.000000   \n",
      "25%        0.000000      0.000000      0.000000      0.000000      0.000000   \n",
      "50%        0.000000      0.000000      0.000000      0.000000      0.000000   \n",
      "75%        0.000000      0.000000      0.000000      0.000000      0.000000   \n",
      "max      227.000000    230.000000    224.000000    255.000000    254.000000   \n",
      "\n",
      "       ...      pixel775      pixel776      pixel777      pixel778  \\\n",
      "count  ...  60000.000000  60000.000000  60000.000000  60000.000000   \n",
      "mean   ...     34.625400     23.300683     16.588267     17.869433   \n",
      "std    ...     57.545242     48.854427     41.979611     43.966032   \n",
      "min    ...      0.000000      0.000000      0.000000      0.000000   \n",
      "25%    ...      0.000000      0.000000      0.000000      0.000000   \n",
      "50%    ...      0.000000      0.000000      0.000000      0.000000   \n",
      "75%    ...     58.000000      9.000000      0.000000      0.000000   \n",
      "max    ...    255.000000    255.000000    255.000000    255.000000   \n",
      "\n",
      "           pixel779      pixel780      pixel781      pixel782      pixel783  \\\n",
      "count  60000.000000  60000.000000  60000.000000  60000.000000  60000.000000   \n",
      "mean      22.814817     17.911483      8.520633      2.753300      0.855517   \n",
      "std       51.830477     45.149388     29.614859     17.397652      9.356960   \n",
      "min        0.000000      0.000000      0.000000      0.000000      0.000000   \n",
      "25%        0.000000      0.000000      0.000000      0.000000      0.000000   \n",
      "50%        0.000000      0.000000      0.000000      0.000000      0.000000   \n",
      "75%        0.000000      0.000000      0.000000      0.000000      0.000000   \n",
      "max      255.000000    255.000000    255.000000    255.000000    255.000000   \n",
      "\n",
      "          pixel784  \n",
      "count  60000.00000  \n",
      "mean       0.07025  \n",
      "std        2.12587  \n",
      "min        0.00000  \n",
      "25%        0.00000  \n",
      "50%        0.00000  \n",
      "75%        0.00000  \n",
      "max      170.00000  \n",
      "\n",
      "[8 rows x 785 columns]\n",
      "--------------------------------------------------\n",
      "   label  pixel1  pixel2  pixel3  pixel4  pixel5  pixel6  pixel7  pixel8  \\\n",
      "0      2       0       0       0       0       0       0       0       0   \n",
      "1      9       0       0       0       0       0       0       0       0   \n",
      "2      6       0       0       0       0       0       0       0       5   \n",
      "3      0       0       0       0       1       2       0       0       0   \n",
      "4      3       0       0       0       0       0       0       0       0   \n",
      "\n",
      "   pixel9  ...  pixel775  pixel776  pixel777  pixel778  pixel779  pixel780  \\\n",
      "0       0  ...         0         0         0         0         0         0   \n",
      "1       0  ...         0         0         0         0         0         0   \n",
      "2       0  ...         0         0         0        30        43         0   \n",
      "3       0  ...         3         0         0         0         0         1   \n",
      "4       0  ...         0         0         0         0         0         0   \n",
      "\n",
      "   pixel781  pixel782  pixel783  pixel784  \n",
      "0         0         0         0         0  \n",
      "1         0         0         0         0  \n",
      "2         0         0         0         0  \n",
      "3         0         0         0         0  \n",
      "4         0         0         0         0  \n",
      "\n",
      "[5 rows x 785 columns]\n",
      "--------------------------------------------------\n",
      "Data shape:  (60000, 785)\n",
      "Amount of duplicates:  43\n"
     ]
    }
   ],
   "source": [
    "data_info(df_train)"
   ]
  },
  {
   "cell_type": "code",
   "execution_count": 6,
   "metadata": {},
   "outputs": [
    {
     "name": "stdout",
     "output_type": "stream",
     "text": [
      "<class 'pandas.core.frame.DataFrame'>\n",
      "RangeIndex: 10000 entries, 0 to 9999\n",
      "Columns: 785 entries, label to pixel784\n",
      "dtypes: int64(785)\n",
      "memory usage: 59.9 MB\n",
      "None\n",
      "--------------------------------------------------\n",
      "              label        pixel1        pixel2        pixel3        pixel4  \\\n",
      "count  10000.000000  10000.000000  10000.000000  10000.000000  10000.000000   \n",
      "mean       4.500000      0.000400      0.010300      0.052100      0.077000   \n",
      "std        2.872425      0.024493      0.525187      2.494315      2.208882   \n",
      "min        0.000000      0.000000      0.000000      0.000000      0.000000   \n",
      "25%        2.000000      0.000000      0.000000      0.000000      0.000000   \n",
      "50%        4.500000      0.000000      0.000000      0.000000      0.000000   \n",
      "75%        7.000000      0.000000      0.000000      0.000000      0.000000   \n",
      "max        9.000000      2.000000     45.000000    218.000000    185.000000   \n",
      "\n",
      "             pixel5        pixel6        pixel7        pixel8        pixel9  \\\n",
      "count  10000.000000  10000.000000  10000.000000  10000.000000  10000.000000   \n",
      "mean       0.208600      0.349200      0.826700      2.321200      5.457800   \n",
      "std        4.669183      5.657849      8.591731     15.031508     23.359019   \n",
      "min        0.000000      0.000000      0.000000      0.000000      0.000000   \n",
      "25%        0.000000      0.000000      0.000000      0.000000      0.000000   \n",
      "50%        0.000000      0.000000      0.000000      0.000000      0.000000   \n",
      "75%        0.000000      0.000000      0.000000      0.000000      0.000000   \n",
      "max      227.000000    223.000000    247.000000    218.000000    244.000000   \n",
      "\n",
      "       ...      pixel775      pixel776      pixel777      pixel778  \\\n",
      "count  ...  10000.000000  10000.000000  10000.000000  10000.000000   \n",
      "mean   ...     34.320800     23.071900     16.432000     17.870600   \n",
      "std    ...     57.888679     49.049749     42.159665     44.140552   \n",
      "min    ...      0.000000      0.000000      0.000000      0.000000   \n",
      "25%    ...      0.000000      0.000000      0.000000      0.000000   \n",
      "50%    ...      0.000000      0.000000      0.000000      0.000000   \n",
      "75%    ...     55.000000      6.000000      0.000000      0.000000   \n",
      "max    ...    254.000000    252.000000    255.000000    255.000000   \n",
      "\n",
      "           pixel779      pixel780      pixel781      pixel782      pixel783  \\\n",
      "count  10000.000000  10000.000000  10000.000000  10000.000000  10000.000000   \n",
      "mean      22.860000     17.790200      8.353500      2.541600      0.629500   \n",
      "std       51.706601     45.128107     28.765769     16.417363      7.462533   \n",
      "min        0.000000      0.000000      0.000000      0.000000      0.000000   \n",
      "25%        0.000000      0.000000      0.000000      0.000000      0.000000   \n",
      "50%        0.000000      0.000000      0.000000      0.000000      0.000000   \n",
      "75%        1.000000      0.000000      0.000000      0.000000      0.000000   \n",
      "max      255.000000    255.000000    240.000000    225.000000    205.000000   \n",
      "\n",
      "          pixel784  \n",
      "count  10000.00000  \n",
      "mean       0.06560  \n",
      "std        1.93403  \n",
      "min        0.00000  \n",
      "25%        0.00000  \n",
      "50%        0.00000  \n",
      "75%        0.00000  \n",
      "max      107.00000  \n",
      "\n",
      "[8 rows x 785 columns]\n",
      "--------------------------------------------------\n",
      "   label  pixel1  pixel2  pixel3  pixel4  pixel5  pixel6  pixel7  pixel8  \\\n",
      "0      0       0       0       0       0       0       0       0       9   \n",
      "1      1       0       0       0       0       0       0       0       0   \n",
      "2      2       0       0       0       0       0       0      14      53   \n",
      "3      2       0       0       0       0       0       0       0       0   \n",
      "4      3       0       0       0       0       0       0       0       0   \n",
      "\n",
      "   pixel9  ...  pixel775  pixel776  pixel777  pixel778  pixel779  pixel780  \\\n",
      "0       8  ...       103        87        56         0         0         0   \n",
      "1       0  ...        34         0         0         0         0         0   \n",
      "2      99  ...         0         0         0         0        63        53   \n",
      "3       0  ...       137       126       140         0       133       224   \n",
      "4       0  ...         0         0         0         0         0         0   \n",
      "\n",
      "   pixel781  pixel782  pixel783  pixel784  \n",
      "0         0         0         0         0  \n",
      "1         0         0         0         0  \n",
      "2        31         0         0         0  \n",
      "3       222        56         0         0  \n",
      "4         0         0         0         0  \n",
      "\n",
      "[5 rows x 785 columns]\n",
      "--------------------------------------------------\n",
      "Data shape:  (10000, 785)\n",
      "Amount of duplicates:  1\n"
     ]
    }
   ],
   "source": [
    "data_info(df_test)"
   ]
  },
  {
   "cell_type": "code",
   "execution_count": 7,
   "metadata": {},
   "outputs": [
    {
     "name": "stdout",
     "output_type": "stream",
     "text": [
      "Data reshaped successfully.\n",
      "Data normalized successfully.\n",
      "Data preprocessed successfully.\n",
      "Data reshaped successfully.\n",
      "Data normalized successfully.\n",
      "Data preprocessed successfully.\n"
     ]
    }
   ],
   "source": [
    "X_train, y_train = data_preprocess(df_train)\n",
    "X_test, y_test = data_preprocess(df_test)"
   ]
  },
  {
   "cell_type": "code",
   "execution_count": 8,
   "metadata": {},
   "outputs": [
    {
     "name": "stdout",
     "output_type": "stream",
     "text": [
      "Train class count:\n",
      "Label 0: 6000 occurrences\n",
      "Label 1: 6000 occurrences\n",
      "Label 2: 6000 occurrences\n",
      "Label 3: 6000 occurrences\n",
      "Label 4: 6000 occurrences\n",
      "Label 5: 6000 occurrences\n",
      "Label 6: 6000 occurrences\n",
      "Label 7: 6000 occurrences\n",
      "Label 8: 6000 occurrences\n",
      "Label 9: 6000 occurrences\n"
     ]
    }
   ],
   "source": [
    "print('Train class count:')\n",
    "count_classes(y_train)"
   ]
  },
  {
   "cell_type": "code",
   "execution_count": 9,
   "metadata": {},
   "outputs": [
    {
     "name": "stdout",
     "output_type": "stream",
     "text": [
      "Test class count:\n",
      "Label 0: 1000 occurrences\n",
      "Label 1: 1000 occurrences\n",
      "Label 2: 1000 occurrences\n",
      "Label 3: 1000 occurrences\n",
      "Label 4: 1000 occurrences\n",
      "Label 5: 1000 occurrences\n",
      "Label 6: 1000 occurrences\n",
      "Label 7: 1000 occurrences\n",
      "Label 8: 1000 occurrences\n",
      "Label 9: 1000 occurrences\n"
     ]
    }
   ],
   "source": [
    "print('Test class count:')\n",
    "count_classes(y_test)"
   ]
  },
  {
   "cell_type": "code",
   "execution_count": 11,
   "metadata": {},
   "outputs": [
    {
     "data": {
      "image/png": "[encoded data removed]",
      "text/plain": [
       "<Figure size 1000x500 with 5 Axes>"
      ]
     },
     "metadata": {},
     "output_type": "display_data"
    },
    {
     "data": {
      "image/png": "[encoded data removed]",
      "text/plain": [
       "<Figure size 1000x500 with 5 Axes>"
      ]
     },
     "metadata": {},
     "output_type": "display_data"
    }
   ],
   "source": [
    "plot_first_images(X_train, y_train)\n",
    "plot_first_images(X_test, y_test)"
   ]
  },
  {
   "cell_type": "markdown",
   "metadata": {},
   "source": [
    "# Conclusões\n",
    "O dataset é perfeitamente balanceado e consiste de uma coluna contendo a classificação de cada entrada, e as demais colunas contem o valor de cada pixel da imagem de um determinado objeto, no caso de um tipo de roupa."
   ]
  }
 ],
 "metadata": {
  "kernelspec": {
   "display_name": "tf",
   "language": "python",
   "name": "python3"
  },
  "language_info": {
   "codemirror_mode": {
    "name": "ipython",
    "version": 3
   },
   "file_extension": ".py",
   "mimetype": "text/x-python",
   "name": "python",
   "nbconvert_exporter": "python",
   "pygments_lexer": "ipython3",
   "version": "3.12.8"
  }
 },
 "nbformat": 4,
 "nbformat_minor": 2
}
